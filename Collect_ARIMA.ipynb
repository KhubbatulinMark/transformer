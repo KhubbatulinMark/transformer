{
 "cells": [
  {
   "cell_type": "code",
   "execution_count": 1,
   "metadata": {},
   "outputs": [],
   "source": [
    "import os\n",
    "import glob\n",
    "import pandas as pd\n",
    "import numpy as np\n",
    "import funcs_for_proc\n",
    "from transformator import (\n",
    "    relative_concentration, get_accepted_maximum_value,\n",
    "    get_all_relative_concentration)\n",
    "import warnings\n",
    "warnings.simplefilter(\"ignore\", UserWarning)\n",
    "\n",
    "import matplotlib.pyplot as plt\n",
    "import seaborn as sns\n",
    "import statsmodels.api as sm\n",
    "from statsmodels.stats.diagnostic import acorr_ljungbox\n",
    "import warnings\n",
    "from itertools import product\n",
    "from tqdm import tqdm"
   ]
  },
  {
   "cell_type": "code",
   "execution_count": 2,
   "metadata": {},
   "outputs": [],
   "source": [
    "data = funcs_for_proc.get_data_from_csv('final_data/data_train/data_train', 'csv','final_data/train.csv')"
   ]
  },
  {
   "cell_type": "code",
   "execution_count": null,
   "metadata": {},
   "outputs": [
    {
     "name": "stderr",
     "output_type": "stream",
     "text": [
      "  1%|          | 13/2100 [00:36<1:37:58,  2.82s/it]"
     ]
    }
   ],
   "source": [
    "data_with_egde_val=pd.DataFrame(columns=['fime_name','H2', 'CO', 'C2H4', 'C2H2'])\n",
    "pbar = tqdm(total=len(data))\n",
    "for j,file in enumerate(data):\n",
    "#     print('%s'%file[0])\n",
    "    models=funcs_for_proc.find_best_arima_model_for_gas(file)\n",
    "    data_normal=file[2]\n",
    "    row_data=[]\n",
    "    row_data.append(file[0])\n",
    "    for i, gas in enumerate (['H2', 'CO', 'C2H4', 'C2H2']):\n",
    "        pred_val = models[gas].forecast(steps=file[1]+len(data_normal))\n",
    "        row_data.append(pred_val[-1])\n",
    "    data_with_egde_val.loc[j]=row_data\n",
    "    pbar.update(1)\n",
    "pbar.close()"
   ]
  },
  {
   "cell_type": "code",
   "execution_count": null,
   "metadata": {},
   "outputs": [],
   "source": []
  }
 ],
 "metadata": {
  "kernelspec": {
   "display_name": "Python 3",
   "language": "python",
   "name": "python3"
  },
  "language_info": {
   "codemirror_mode": {
    "name": "ipython",
    "version": 3
   },
   "file_extension": ".py",
   "mimetype": "text/x-python",
   "name": "python",
   "nbconvert_exporter": "python",
   "pygments_lexer": "ipython3",
   "version": "3.8.5"
  }
 },
 "nbformat": 4,
 "nbformat_minor": 4
}
