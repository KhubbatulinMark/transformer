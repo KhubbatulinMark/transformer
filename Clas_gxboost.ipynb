{
 "cells": [
  {
   "cell_type": "code",
   "execution_count": 1,
   "id": "august-isaac",
   "metadata": {},
   "outputs": [],
   "source": []
  },
  {
   "cell_type": "code",
   "execution_count": 3,
   "id": "informational-experiment",
   "metadata": {},
   "outputs": [],
   "source": [
    "data = funcs_for_proc.get_data_from_csv('class/data_train/data_train', 'csv','class/train.csv')"
   ]
  },
  {
   "cell_type": "code",
   "execution_count": null,
   "id": "broken-burns",
   "metadata": {},
   "outputs": [],
   "source": [
    "data_with_egde_val=pd.DataFrame(columns=['fime_name','H2', 'CO', 'C2H4', 'C2H2'])\n",
    "pbar = tqdm(total=len(data))\n",
    "for j,file in enumerate(data):"
   ]
  }
 ],
 "metadata": {
  "kernelspec": {
   "display_name": "Python 3",
   "language": "python",
   "name": "python3"
  },
  "language_info": {
   "codemirror_mode": {
    "name": "ipython",
    "version": 3
   },
   "file_extension": ".py",
   "mimetype": "text/x-python",
   "name": "python",
   "nbconvert_exporter": "python",
   "pygments_lexer": "ipython3",
   "version": "3.8.5"
  }
 },
 "nbformat": 4,
 "nbformat_minor": 5
}
